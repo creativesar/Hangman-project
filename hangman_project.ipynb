{
  "nbformat": 4,
  "nbformat_minor": 0,
  "metadata": {
    "colab": {
      "provenance": [],
      "authorship_tag": "ABX9TyNyjiQQz2wbncb1JCUADmKV",
      "include_colab_link": true
    },
    "kernelspec": {
      "name": "python3",
      "display_name": "Python 3"
    },
    "language_info": {
      "name": "python"
    }
  },
  "cells": [
    {
      "cell_type": "markdown",
      "metadata": {
        "id": "view-in-github",
        "colab_type": "text"
      },
      "source": [
        "<a href=\"https://colab.research.google.com/github/creativesar/Hangman-project/blob/main/hangman_project.ipynb\" target=\"_parent\"><img src=\"https://colab.research.google.com/assets/colab-badge.svg\" alt=\"Open In Colab\"/></a>"
      ]
    },
    {
      "cell_type": "code",
      "execution_count": null,
      "metadata": {
        "colab": {
          "base_uri": "https://localhost:8080/"
        },
        "id": "vn01p-G66bhf",
        "outputId": "91ec7147-acca-47d0-a273-dcdb229dbe5b"
      },
      "outputs": [
        {
          "output_type": "stream",
          "name": "stdout",
          "text": [
            "Welcome to Hangman!\n",
            "You have 6 lives left and you have used these letters:  \n",
            "Current word:  - - - - - - - - - - -\n"
          ]
        }
      ],
      "source": [
        "import random\n",
        "import string\n",
        "\n",
        "def get_word():\n",
        "    words = ['python', 'programming', 'computer', 'algorithm', 'developer',\n",
        "             'keyboard', 'challenge', 'learning', 'hangman', 'solution']\n",
        "    return random.choice(words).upper()\n",
        "\n",
        "def hangman():\n",
        "    word = get_word()\n",
        "    word_letters = set(word)  # letters in the word\n",
        "    alphabet = set(string.ascii_uppercase)\n",
        "    used_letters = set()  # what the user has guessed\n",
        "\n",
        "    lives = 6  # Number of lives\n",
        "\n",
        "    # Getting user input\n",
        "    while len(word_letters) > 0 and lives > 0:\n",
        "        # Letters used\n",
        "        print('You have', lives, 'lives left and you have used these letters: ', ' '.join(used_letters))\n",
        "\n",
        "        # What current word is (ie W - R D)\n",
        "        word_list = [letter if letter in used_letters else '-' for letter in word]\n",
        "        print('Current word: ', ' '.join(word_list))\n",
        "\n",
        "        user_letter = input('Guess a letter: ').upper()\n",
        "        if user_letter in alphabet - used_letters:\n",
        "            used_letters.add(user_letter)\n",
        "            if user_letter in word_letters:\n",
        "                word_letters.remove(user_letter)\n",
        "                print('')\n",
        "            else:\n",
        "                lives = lives - 1  # takes away a life if wrong\n",
        "                print('\\nYour letter,', user_letter, 'is not in the word.')\n",
        "        elif user_letter in used_letters:\n",
        "            print('\\nYou have already used that letter. Guess another letter.')\n",
        "        else:\n",
        "            print('\\nThat is not a valid letter.')\n",
        "\n",
        "    # gets here when len(word_letters) == 0 OR when lives == 0\n",
        "    if lives == 0:\n",
        "        print('You died, sorry. The word was', word)\n",
        "    else:\n",
        "        print('Congratulations! You guessed the word', word, '!!')\n",
        "\n",
        "if __name__ == \"__main__\":\n",
        "    print(\"Welcome to Hangman!\")\n",
        "    hangman()\n",
        "    while input(\"Play Again? (Y/N) \").upper() == \"Y\":\n",
        "        hangman()"
      ]
    }
  ]
}